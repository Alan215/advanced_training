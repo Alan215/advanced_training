{
 "cells": [
  {
   "cell_type": "markdown",
   "metadata": {},
   "source": [
    "# Intro\n",
    "\n",
    "Andreas Mueller\n",
    "NYU Center for Data Science\n",
    "\n",
    "## Clone this repository:\n",
    "https://github.com/amueller/advanced_training\n",
    "\n",
    "## Schedule\n",
    "FIXME\n"
   ]
  },
  {
   "cell_type": "markdown",
   "metadata": {},
   "source": [
    "# Outline\n",
    "\n",
    "## Basic algorithms\n",
    "- Review of supervised learning\n",
    "- Linear models for classification and regression\n",
    "- Loss functions, regularization, empirical risk minimization\n",
    "- Path algorithms\n",
    "- Exercise: FIXME Regression\n",
    "\n",
    "## Basic tools\n",
    "- Cross-validation vs train/test split\n",
    "- GridSearchCV\n",
    "- Overfitting Parameters\n",
    "- Scoring Metrics\n",
    "- Exercise: FIXME\n",
    "\n",
    "## Preprocessing\n",
    "- Scaling and normalization\n",
    "- Feature selection:\n",
    "    - Univariate\n",
    "    - Model-based\n",
    "    - RFE\n",
    "    - Forward / backward selection\n",
    "- Polynomial and interaction features\n",
    "\n",
    "- Exercise: FIXME\n",
    "\n",
    "## Advanced tools\n",
    "- Pipelines\n",
    "- FeatureUnion\n",
    "- Function Transformer?\n",
    "- Exercise: FIXME\n",
    "\n",
    "## Advanced Supervised Learning\n",
    "- Decision Tree Recap\n",
    "- Random Forests\n",
    "- Gradient Boosting / xgboost\n",
    "- Kernel SVMs\n",
    "- Kernel approximation\n",
    "- Neural Networks\n",
    "- Exercise: FIXME\n",
    "\n",
    "## Unsupervised feature extraction and visualization\n",
    "- PCA\n",
    "- NMF\n",
    "- Robust PCA?\n",
    "- TSNE\n",
    "- Exercise: FIXME\n",
    "\n",
    "\n",
    "## Outlier Detection\n",
    "- Elliptic Envelope?\n",
    "- IForest ?\n",
    "- What else?\n",
    "- KDE?\n",
    "- SVM?\n",
    "- robust PCA?\n",
    "- Exercise: FIXME\n",
    "\n",
    "## Gaussian Processes\n",
    "- Non-iid data\n",
    "- Gaussian fit...\n",
    "- Covariance matrix is a kernel\n",
    "- regression, outlier detection, time series modelling\n",
    "- Exercise: FIXME\n",
    "\n",
    "## More Neural Networks\n",
    "\n",
    "## beyond standard sklearn\n",
    "- warm starts\n",
    "- out of core\n",
    "- custom estimators\n",
    "\n"
   ]
  },
  {
   "cell_type": "code",
   "execution_count": null,
   "metadata": {
    "collapsed": true
   },
   "outputs": [],
   "source": []
  }
 ],
 "metadata": {
  "kernelspec": {
   "display_name": "Python 3",
   "language": "python",
   "name": "python3"
  },
  "language_info": {
   "codemirror_mode": {
    "name": "ipython",
    "version": 3
   },
   "file_extension": ".py",
   "mimetype": "text/x-python",
   "name": "python",
   "nbconvert_exporter": "python",
   "pygments_lexer": "ipython3",
   "version": "3.5.1"
  }
 },
 "nbformat": 4,
 "nbformat_minor": 0
}
