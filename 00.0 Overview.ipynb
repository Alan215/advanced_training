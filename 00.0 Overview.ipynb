{
 "cells": [
  {
   "cell_type": "markdown",
   "metadata": {},
   "source": [
    "# Intro\n",
    "\n",
    "Andreas Mueller\n",
    "NYU Center for Data Science\n",
    "\n",
    "## Clone this repository:\n",
    "https://github.com/amueller/advanced_training\n",
    "\n",
    "## Schedule\n",
    "FIXME\n"
   ]
  },
  {
   "cell_type": "markdown",
   "metadata": {},
   "source": [
    "# Outline\n",
    "\n",
    "## 1 Basic algorithms\n",
    "- Review of supervised learning\n",
    "- Linear models for classification and regression\n",
    "- Loss functions, regularization, empirical risk minimization\n",
    "- Path algorithms\n",
    "- Exercise: FIXME Regression\n",
    "\n",
    "## 2 Basic tools\n",
    "- Cross-validation vs train/test split\n",
    "- GridSearchCV\n",
    "- Overfitting Parameters\n",
    "- Scoring Metrics\n",
    "- Exercise: FIXME\n",
    "\n",
    "## 3 Preprocessing\n",
    "- Scaling and normalization\n",
    "- Feature selection:\n",
    "    - Univariate\n",
    "    - Model-based\n",
    "    - RFE\n",
    "    - Forward / backward selection\n",
    "- Polynomial and interaction features\n",
    "\n",
    "- Exercise: FIXME\n",
    "\n",
    "## 4 Advanced tools\n",
    "- Pipelines\n",
    "- FeatureUnion\n",
    "- Function Transformer?\n",
    "- Exercise: FIXME\n",
    "\n",
    "## 5 Advanced Supervised Learning\n",
    "- Decision Tree Recap\n",
    "- Random Forests\n",
    "- Gradient Boosting / xgboost\n",
    "- Kernel SVMs\n",
    "- Kernel approximation\n",
    "- Neural Networks\n",
    "- Exercise: FIXME\n",
    "\n",
    "## 6 Unsupervised feature extraction and visualization\n",
    "- PCA\n",
    "- NMF\n",
    "- Robust PCA?\n",
    "- TSNE\n",
    "- Exercise: FIXME\n",
    "\n",
    "\n",
    "## 7 Outlier Detection\n",
    "- Elliptic Envelope?\n",
    "- IForest ?\n",
    "- What else?\n",
    "- KDE?\n",
    "- SVM?\n",
    "- robust PCA?\n",
    "- Exercise: FIXME\n",
    "\n",
    "## 8 Gaussian Processes\n",
    "- Non-iid data\n",
    "- Gaussian fit...\n",
    "- Covariance matrix is a kernel\n",
    "- regression, outlier detection, time series modelling\n",
    "- Exercise: FIXME\n",
    "\n",
    "## 9 More Neural Networks\n",
    "\n",
    "## 10 beyond standard sklearn\n",
    "- warm starts\n",
    "- out of core\n",
    "- custom estimators\n",
    "\n"
   ]
  },
  {
   "cell_type": "code",
   "execution_count": null,
   "metadata": {
    "collapsed": true
   },
   "outputs": [],
   "source": []
  },
  {
   "cell_type": "code",
   "execution_count": null,
   "metadata": {
    "collapsed": true
   },
   "outputs": [],
   "source": []
  }
 ],
 "metadata": {
  "kernelspec": {
   "display_name": "Python 3",
   "language": "python",
   "name": "python3"
  },
  "language_info": {
   "codemirror_mode": {
    "name": "ipython",
    "version": 3
   },
   "file_extension": ".py",
   "mimetype": "text/x-python",
   "name": "python",
   "nbconvert_exporter": "python",
   "pygments_lexer": "ipython3",
   "version": "3.5.1"
  }
 },
 "nbformat": 4,
 "nbformat_minor": 0
}
