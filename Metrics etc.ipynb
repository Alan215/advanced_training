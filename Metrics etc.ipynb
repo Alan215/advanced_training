{
 "cells": [
  {
   "cell_type": "code",
   "execution_count": 1,
   "metadata": {
    "collapsed": false,
    "hide_input": false
   },
   "outputs": [],
   "source": [
    "from preamble import *\n",
    "%matplotlib inline\n",
    "import matplotlib as mpl\n",
    "mpl.rcParams['legend.numpoints'] = 1\n",
    "mpl.rcParams['savefig.bbox'] = \"tight\""
   ]
  },
  {
   "cell_type": "markdown",
   "metadata": {},
   "source": [
    "# Model evaluation and improvement"
   ]
  },
  {
   "cell_type": "code",
   "execution_count": 2,
   "metadata": {
    "collapsed": false
   },
   "outputs": [
    {
     "data": {
      "text/plain": [
       "0.88"
      ]
     },
     "execution_count": 2,
     "metadata": {},
     "output_type": "execute_result"
    }
   ],
   "source": [
    "from sklearn.datasets import make_blobs\n",
    "from sklearn.linear_model import LogisticRegression\n",
    "from sklearn.model_selection import train_test_split\n",
    "\n",
    "# create a synthetic dataset\n",
    "X, y = make_blobs(random_state=0)\n",
    "# split data and labels into a training and a test set\n",
    "X_train, X_test, y_train, y_test = train_test_split(X, y, random_state=0)\n",
    "# Instantiate a model and fit it to the training set\n",
    "logreg = LogisticRegression().fit(X_train, y_train)\n",
    "# evaluate the model on the test set\n",
    "logreg.score(X_test, y_test)\n",
    "# we predicted the correct class on 88% of the samples in X_test"
   ]
  },
  {
   "cell_type": "markdown",
   "metadata": {},
   "source": [
    "## Cross-validation"
   ]
  },
  {
   "cell_type": "code",
   "execution_count": 3,
   "metadata": {
    "collapsed": false,
    "hide_input": false
   },
   "outputs": [],
   "source": [
    "plt.figure(figsize=(12, 2))\n",
    "plt.title(\"cross_validation\")\n",
    "axes = plt.gca()\n",
    "axes.set_frame_on(False)\n",
    "\n",
    "n_folds = 5\n",
    "n_samples = 25\n",
    "\n",
    "n_samples_per_fold = n_samples / float(n_folds)\n",
    "\n",
    "\n",
    "for i in range(n_folds):\n",
    "    colors = [\"w\"] * n_folds\n",
    "    colors[i] = \"grey\"\n",
    "    plt.barh(bottom=range(n_folds), width=[n_samples_per_fold - 0.1] * n_folds,\n",
    "             left=i * n_samples_per_fold, height=.6, color=colors, hatch=\"//\")\n",
    "axes.invert_yaxis()\n",
    "axes.set_xlim(0, n_samples + 1)\n",
    "plt.ylabel(\"CV iterations\")\n",
    "plt.xlabel(\"Data points\")\n",
    "plt.xticks(np.arange(n_samples_per_fold / 2., n_samples, n_samples_per_fold), [\"Fold %d\" % x for x in range(1, n_folds + 1)])\n",
    "plt.yticks(np.arange(n_folds) + .3, [\"Split %d\" % x for x in range(1, n_folds + 1)])\n",
    "plt.legend(['Training data', 'Test data'], loc=(1.05, 0.4), frameon=False);\n",
    "plt.savefig(\"images/06_cross_validation2.png\")\n",
    "plt.close()"
   ]
  },
  {
   "cell_type": "markdown",
   "metadata": {},
   "source": [
    "### Cross-validation in scikit-learn"
   ]
  },
  {
   "cell_type": "code",
   "execution_count": 4,
   "metadata": {
    "collapsed": false
   },
   "outputs": [
    {
     "name": "stdout",
     "output_type": "stream",
     "text": [
      "cross-validation scores:  [ 0.961  0.922  0.958]\n"
     ]
    }
   ],
   "source": [
    "from sklearn.model_selection import cross_val_score\n",
    "from sklearn.datasets import load_iris\n",
    "from sklearn.linear_model import LogisticRegression\n",
    "\n",
    "iris = load_iris()\n",
    "logreg = LogisticRegression()\n",
    "\n",
    "scores = cross_val_score(logreg, iris.data, iris.target)\n",
    "print(\"cross-validation scores: \", scores)"
   ]
  },
  {
   "cell_type": "code",
   "execution_count": 5,
   "metadata": {
    "collapsed": false
   },
   "outputs": [
    {
     "data": {
      "text/plain": [
       "array([ 1.   ,  0.967,  0.933,  0.9  ,  1.   ])"
      ]
     },
     "execution_count": 5,
     "metadata": {},
     "output_type": "execute_result"
    }
   ],
   "source": [
    "scores = cross_val_score(logreg, iris.data, iris.target, cv=5)\n",
    "scores"
   ]
  },
  {
   "cell_type": "code",
   "execution_count": 6,
   "metadata": {
    "collapsed": false
   },
   "outputs": [
    {
     "data": {
      "text/plain": [
       "0.96000000000000019"
      ]
     },
     "execution_count": 6,
     "metadata": {},
     "output_type": "execute_result"
    }
   ],
   "source": [
    "scores.mean()"
   ]
  },
  {
   "cell_type": "markdown",
   "metadata": {},
   "source": [
    "## Benefits of cross-validation"
   ]
  },
  {
   "cell_type": "markdown",
   "metadata": {},
   "source": [
    "## Stratified K-Fold cross-validation and other strategies"
   ]
  },
  {
   "cell_type": "code",
   "execution_count": 7,
   "metadata": {
    "collapsed": false
   },
   "outputs": [
    {
     "name": "stdout",
     "output_type": "stream",
     "text": [
      "[0 0 0 0 0 0 0 0 0 0 0 0 0 0 0 0 0 0 0 0 0 0 0 0 0 0 0 0 0 0 0 0 0 0 0 0 0\n",
      " 0 0 0 0 0 0 0 0 0 0 0 0 0 1 1 1 1 1 1 1 1 1 1 1 1 1 1 1 1 1 1 1 1 1 1 1 1\n",
      " 1 1 1 1 1 1 1 1 1 1 1 1 1 1 1 1 1 1 1 1 1 1 1 1 1 1 2 2 2 2 2 2 2 2 2 2 2\n",
      " 2 2 2 2 2 2 2 2 2 2 2 2 2 2 2 2 2 2 2 2 2 2 2 2 2 2 2 2 2 2 2 2 2 2 2 2 2\n",
      " 2 2]\n"
     ]
    }
   ],
   "source": [
    "from sklearn.datasets import load_iris\n",
    "iris = load_iris()\n",
    "print(iris.target)"
   ]
  },
  {
   "cell_type": "code",
   "execution_count": 8,
   "metadata": {
    "collapsed": false,
    "hide_input": false
   },
   "outputs": [],
   "source": [
    "# FIXME HIDE! FIXME LEGEND\n",
    "fig, both_axes = plt.subplots(2, 1, figsize=(12, 5))\n",
    "#plt.title(\"cross_validation_not_stratified\")\n",
    "axes = both_axes[0]\n",
    "axes.set_title(\"Standard cross-validation with sorted class labels\")\n",
    "\n",
    "axes.set_frame_on(False)\n",
    "\n",
    "n_folds = 3\n",
    "n_samples = 150\n",
    "\n",
    "n_samples_per_fold = n_samples / float(n_folds)\n",
    "\n",
    "\n",
    "for i in range(n_folds):\n",
    "    colors = [\"w\"] * n_folds\n",
    "    colors[i] = \"grey\"\n",
    "    axes.barh(bottom=range(n_folds), width=[n_samples_per_fold - 1] * n_folds, left=i * n_samples_per_fold, height=.6, color=colors, hatch=\"//\")\n",
    "    \n",
    "axes.barh(bottom=[n_folds] * n_folds, width=[n_samples_per_fold - 1] * n_folds, left=np.arange(3) * n_samples_per_fold, height=.6, color=\"w\")\n",
    "\n",
    "axes.invert_yaxis()\n",
    "axes.set_xlim(0, n_samples + 1)\n",
    "axes.set_ylabel(\"CV iterations\")\n",
    "axes.set_xlabel(\"Data points\")\n",
    "axes.set_xticks(np.arange(n_samples_per_fold / 2., n_samples, n_samples_per_fold))\n",
    "axes.set_xticklabels([\"Fold %d\" % x for x in range(1, n_folds + 1)])\n",
    "axes.set_yticks(np.arange(n_folds + 1) + .3)\n",
    "axes.set_yticklabels([\"Split %d\" % x for x in range(1, n_folds + 1)] + [\"Class label\"])\n",
    "for i in range(3):\n",
    "    axes.text((i + .5) * n_samples_per_fold, 3.5, \"Class %d\" % i, horizontalalignment=\"center\")\n",
    "\n",
    "\n",
    "ax = both_axes[1]\n",
    "ax.set_title(\"Stratified Cross-validation\")\n",
    "ax.set_frame_on(False)\n",
    "ax.invert_yaxis()\n",
    "ax.set_xlim(0, n_samples + 1)\n",
    "ax.set_ylabel(\"CV iterations\")\n",
    "ax.set_xlabel(\"Data points\")\n",
    "\n",
    "ax.set_yticks(np.arange(n_folds + 1) + .3)\n",
    "ax.set_yticklabels([\"Split %d\" % x for x in range(1, n_folds + 1)] + [\"Class label\"]);\n",
    "\n",
    "n_subsplit = n_samples_per_fold / 3.\n",
    "for i in range(n_folds):\n",
    "    test_bars = ax.barh(bottom=[i] * n_folds, width=[n_subsplit - 1] * n_folds, left=np.arange(n_folds) * n_samples_per_fold + i * n_subsplit, height=.6, color=\"grey\", hatch=\"//\")\n",
    "\n",
    "w = 2 * n_subsplit - 1\n",
    "ax.barh(bottom=[0] * n_folds, width=[w] * n_folds, left=np.arange(n_folds) * n_samples_per_fold + (0 + 1) * n_subsplit, height=.6, color=\"w\", hatch=\"//\")\n",
    "ax.barh(bottom=[1] * (n_folds + 1), width=[w / 2., w, w, w / 2.], left=np.maximum(0, np.arange(n_folds + 1) * n_samples_per_fold - n_subsplit), height=.6, color=\"w\", hatch=\"//\")\n",
    "training_bars = ax.barh(bottom=[2] * n_folds, width=[w] * n_folds, left=np.arange(n_folds) * n_samples_per_fold , height=.6, color=\"w\", hatch=\"//\")\n",
    "\n",
    "\n",
    "    \n",
    "ax.barh(bottom=[n_folds] * n_folds, width=[n_samples_per_fold - 1] * n_folds, left=np.arange(n_folds) * n_samples_per_fold, height=.6, color=\"w\")\n",
    "\n",
    "for i in range(3):\n",
    "    ax.text((i + .5) * n_samples_per_fold, 3.5, \"Class %d\" % i, horizontalalignment=\"center\")\n",
    "ax.set_ylim(4, -0.1)\n",
    "plt.legend([training_bars[0], test_bars[0]], ['Training data', 'Test data'], loc=(1.05, 1), frameon=False);\n",
    "\n",
    "fig.tight_layout()\n",
    "plt.savefig(\"images/06_stratified_kfold.png\")\n",
    "plt.close()"
   ]
  },
  {
   "cell_type": "markdown",
   "metadata": {},
   "source": [
    "## More control over cross-validation"
   ]
  },
  {
   "cell_type": "code",
   "execution_count": 9,
   "metadata": {
    "collapsed": true
   },
   "outputs": [],
   "source": [
    "from sklearn.model_selection import KFold\n",
    "kfold = KFold(n_folds=5)"
   ]
  },
  {
   "cell_type": "code",
   "execution_count": 10,
   "metadata": {
    "collapsed": false
   },
   "outputs": [
    {
     "data": {
      "text/plain": [
       "array([ 1.   ,  0.933,  0.433,  0.967,  0.433])"
      ]
     },
     "execution_count": 10,
     "metadata": {},
     "output_type": "execute_result"
    }
   ],
   "source": [
    "cross_val_score(logreg, iris.data, iris.target, cv=kfold)"
   ]
  },
  {
   "cell_type": "code",
   "execution_count": 11,
   "metadata": {
    "collapsed": false
   },
   "outputs": [
    {
     "data": {
      "text/plain": [
       "array([ 0.,  0.,  0.])"
      ]
     },
     "execution_count": 11,
     "metadata": {},
     "output_type": "execute_result"
    }
   ],
   "source": [
    "kfold = KFold(n_folds=3)\n",
    "cross_val_score(logreg, iris.data, iris.target, cv=kfold)"
   ]
  },
  {
   "cell_type": "code",
   "execution_count": 12,
   "metadata": {
    "collapsed": false
   },
   "outputs": [
    {
     "data": {
      "text/plain": [
       "array([ 0.9 ,  0.96,  0.96])"
      ]
     },
     "execution_count": 12,
     "metadata": {},
     "output_type": "execute_result"
    }
   ],
   "source": [
    "kfold = KFold(n_folds=3, shuffle=True, random_state=0)\n",
    "cross_val_score(logreg, iris.data, iris.target, cv=kfold)"
   ]
  },
  {
   "cell_type": "markdown",
   "metadata": {},
   "source": [
    "### Leave-One-Out cross-validation"
   ]
  },
  {
   "cell_type": "code",
   "execution_count": 13,
   "metadata": {
    "collapsed": false
   },
   "outputs": [
    {
     "name": "stdout",
     "output_type": "stream",
     "text": [
      "number of cv iterations:  150\n",
      "mean accuracy:  0.953333333333\n"
     ]
    }
   ],
   "source": [
    "from sklearn.model_selection import LeaveOneOut\n",
    "loo = LeaveOneOut()\n",
    "scores = cross_val_score(logreg, iris.data, iris.target, cv=loo)\n",
    "print(\"number of cv iterations: \", len(scores))\n",
    "print(\"mean accuracy: \", scores.mean())"
   ]
  },
  {
   "cell_type": "markdown",
   "metadata": {},
   "source": [
    "### Shuffle-Split cross-validation"
   ]
  },
  {
   "cell_type": "code",
   "execution_count": 14,
   "metadata": {
    "collapsed": false,
    "hide_input": false
   },
   "outputs": [],
   "source": [
    "# FIXME HIDE THIS\n",
    "\n",
    "from sklearn.model_selection import ShuffleSplit\n",
    "plt.figure(figsize=(10, 2))\n",
    "plt.title(\"ShuffleSplit with 10 points, train_size=5, test_size=2, n_iter=4\")\n",
    "\n",
    "axes = plt.gca()\n",
    "axes.set_frame_on(False)\n",
    "\n",
    "n_folds = 10\n",
    "n_samples = 10\n",
    "n_iter = 4\n",
    "n_samples_per_fold = 1\n",
    "\n",
    "ss = ShuffleSplit(n_iter=4, train_size=5, test_size=2, random_state=43)\n",
    "mask = np.zeros((n_iter, n_samples))\n",
    "for i, (train, test) in enumerate(ss.split(range(10))):\n",
    "    mask[i, train] = 1\n",
    "    mask[i, test] = 2\n",
    "\n",
    "\n",
    "for i in range(n_folds):\n",
    "    # test is grey\n",
    "    colors = [\"grey\"  if x == 2 else \"white\" for x in mask[:, i]]\n",
    "    # not selected has no hatch\n",
    "    \n",
    "    boxes = axes.barh(bottom=range(n_iter), width=[1 - 0.1] * n_iter, left=i * n_samples_per_fold, height=.6, color=colors, hatch=\"//\")\n",
    "    for j in np.where(mask[:, i] == 0)[0]:\n",
    "        boxes[j].set_hatch(\"\")\n",
    "\n",
    "axes.invert_yaxis()\n",
    "axes.set_xlim(0, n_samples + 1)\n",
    "axes.set_ylabel(\"CV iterations\")\n",
    "axes.set_xlabel(\"Data points\")\n",
    "axes.set_xticks(np.arange(n_samples) + .5)\n",
    "axes.set_xticklabels(np.arange(1, n_samples + 1))\n",
    "axes.set_yticks(np.arange(n_iter) + .3)\n",
    "axes.set_yticklabels([\"Split %d\" % x for x in range(1, n_iter + 1)]);\n",
    "# legend hacked for this random state\n",
    "plt.legend([boxes[1], boxes[0], boxes[2]], [\"Training set\", \"Test set\", \"Not selected\"], loc=(1, .3));\n",
    "plt.tight_layout()\n",
    "plt.savefig(\"images/06_shuffle_split.png\")\n",
    "plt.close()"
   ]
  },
  {
   "cell_type": "code",
   "execution_count": 15,
   "metadata": {
    "collapsed": false
   },
   "outputs": [
    {
     "data": {
      "text/plain": [
       "array([ 0.947,  0.92 ,  0.893,  0.973,  0.893,  0.973,  0.933,  0.96 ,\n",
       "        0.853,  0.907])"
      ]
     },
     "execution_count": 15,
     "metadata": {},
     "output_type": "execute_result"
    }
   ],
   "source": [
    "from sklearn.model_selection import ShuffleSplit\n",
    "shuffle_split = ShuffleSplit(test_size=.5, train_size=.5, n_iter=10)\n",
    "cross_val_score(logreg, iris.data, iris.target, cv=shuffle_split)"
   ]
  },
  {
   "cell_type": "markdown",
   "metadata": {},
   "source": [
    "### Cross-validation with groups"
   ]
  },
  {
   "cell_type": "code",
   "execution_count": 16,
   "metadata": {
    "collapsed": false,
    "hide_input": false
   },
   "outputs": [],
   "source": [
    "# FIXME HIDE THIS\n",
    "from sklearn.model_selection import LabelKFold\n",
    "labels = [0, 0, 0, 1, 1, 1, 1, 2, 2, 3, 3, 3]\n",
    "\n",
    "plt.figure(figsize=(10, 2))\n",
    "plt.title(\"LabelKFold\")\n",
    "\n",
    "axes = plt.gca()\n",
    "axes.set_frame_on(False)\n",
    "\n",
    "n_folds = 12\n",
    "n_samples = 12\n",
    "n_iter = 3\n",
    "n_samples_per_fold = 1\n",
    "\n",
    "cv = LabelKFold(n_folds=3)\n",
    "mask = np.zeros((n_iter, n_samples))\n",
    "for i, (train, test) in enumerate(cv.split(range(12), labels=labels)):\n",
    "    mask[i, train] = 1\n",
    "    mask[i, test] = 2\n",
    "\n",
    "\n",
    "for i in range(n_folds):\n",
    "    # test is grey\n",
    "    colors = [\"grey\"  if x == 2 else \"white\" for x in mask[:, i]]\n",
    "    # not selected has no hatch\n",
    "    \n",
    "    boxes = axes.barh(bottom=range(n_iter), width=[1 - 0.1] * n_iter, left=i * n_samples_per_fold, height=.6, color=colors, hatch=\"//\")\n",
    "    for j in np.where(mask[:, i] == 0)[0]:\n",
    "        boxes[j].set_hatch(\"\")\n",
    "        \n",
    "axes.barh(bottom=[n_iter] * n_folds, width=[1 - 0.1] * n_folds, left=np.arange(n_folds) * n_samples_per_fold, height=.6, color=\"w\")\n",
    "\n",
    "for i in range(12):\n",
    "    axes.text((i + .5) * n_samples_per_fold, 3.5, \"%d\" % labels[i], horizontalalignment=\"center\")\n",
    "#ax.set_ylim(4, -0.1)\n",
    "        \n",
    "axes.invert_yaxis()\n",
    "axes.set_xlim(0, n_samples + 1)\n",
    "axes.set_ylabel(\"CV iterations\")\n",
    "axes.set_xlabel(\"Data points\")\n",
    "axes.set_xticks(np.arange(n_samples) + .5)\n",
    "axes.set_xticklabels(np.arange(1, n_samples + 1))\n",
    "axes.set_yticks(np.arange(n_iter) + .3)\n",
    "axes.set_yticklabels([\"Split %d\" % x for x in range(1, n_iter + 1)] + [\"labels\"]);\n",
    "# legend hacked for this random state\n",
    "plt.legend([boxes[1], boxes[0], boxes[2]], [\"Training set\", \"Test set\"], loc=(1, .3));\n",
    "plt.tight_layout()\n",
    "plt.savefig(\"images/06_label_kfold.png\")\n",
    "plt.close()"
   ]
  },
  {
   "cell_type": "code",
   "execution_count": 17,
   "metadata": {
    "collapsed": false
   },
   "outputs": [
    {
     "data": {
      "text/plain": [
       "array([ 0.75 ,  0.8  ,  0.667])"
      ]
     },
     "execution_count": 17,
     "metadata": {},
     "output_type": "execute_result"
    }
   ],
   "source": [
    "from sklearn.model_selection import LabelKFold\n",
    "# create synthetic dataset\n",
    "X, y = make_blobs(n_samples=12, random_state=0)\n",
    "# assume the first three samples belong to the same group, then the next four etc.\n",
    "labels = [0, 0, 0, 1, 1, 1, 1, 2, 2, 3, 3, 3]\n",
    "cross_val_score(logreg, X, y, labels, cv=LabelKFold(n_folds=3))"
   ]
  },
  {
   "cell_type": "markdown",
   "metadata": {},
   "source": [
    "## Grid Search"
   ]
  },
  {
   "cell_type": "markdown",
   "metadata": {},
   "source": [
    "### Simple Grid-Search"
   ]
  },
  {
   "cell_type": "code",
   "execution_count": 18,
   "metadata": {
    "collapsed": false
   },
   "outputs": [
    {
     "name": "stdout",
     "output_type": "stream",
     "text": [
      "Size of training set: 112   size of test set: 38\n",
      "best score:  0.973684210526\n",
      "best parameters:  {'C': 100, 'gamma': 0.001}\n"
     ]
    }
   ],
   "source": [
    "# naive grid search implementation\n",
    "from sklearn.svm import SVC\n",
    "X_train, X_test, y_train, y_test = train_test_split(iris.data, iris.target, random_state=0)\n",
    "print(\"Size of training set: %d   size of test set: %d\" % (X_train.shape[0], X_test.shape[0]))\n",
    "\n",
    "best_score = 0\n",
    "\n",
    "for gamma in [0.001, 0.01, 0.1, 1, 10, 100]:\n",
    "    for C in [0.001, 0.01, 0.1, 1, 10, 100]:\n",
    "        # for each combination of parameters\n",
    "        # train an SVC\n",
    "        svm = SVC(gamma=gamma, C=C)\n",
    "        svm.fit(X_train, y_train)\n",
    "        # evaluate the SVC on the test set \n",
    "        score = svm.score(X_test, y_test)\n",
    "        # if we got a better score, store the score and parameters\n",
    "        if score > best_score:\n",
    "            best_score = score\n",
    "            best_parameters = {'C': C, 'gamma': gamma}\n",
    "            \n",
    "print(\"best score: \", best_score)\n",
    "print(\"best parameters: \", best_parameters)"
   ]
  },
  {
   "cell_type": "code",
   "execution_count": 19,
   "metadata": {
    "collapsed": false
   },
   "outputs": [
    {
     "data": {
      "text/plain": [
       "0.97368421052631582"
      ]
     },
     "execution_count": 19,
     "metadata": {},
     "output_type": "execute_result"
    }
   ],
   "source": [
    "best_score"
   ]
  },
  {
   "cell_type": "markdown",
   "metadata": {},
   "source": [
    "### The danger of overfitting the parameters and the validation set"
   ]
  },
  {
   "cell_type": "code",
   "execution_count": 20,
   "metadata": {
    "collapsed": false,
    "hide_input": false
   },
   "outputs": [],
   "source": [
    "plt.figure(figsize=(15, 1))\n",
    "axis = plt.gca()\n",
    "bars = axis.barh([0, 0, 0], [11.9, 2.9, 4.9], left=[0, 12, 15], color=['white', 'grey', 'grey'], hatch=\"//\")\n",
    "bars[2].set_hatch(r\"\")\n",
    "axis.set_yticks(())\n",
    "axis.set_frame_on(False)\n",
    "axis.set_ylim(-.1, .8)\n",
    "axis.set_xlim(-0.1, 20.1)\n",
    "axis.set_xticks([6, 13.3, 17.5])\n",
    "axis.set_xticklabels([\"training set\", \"validation set\", \"test set\"], fontdict={'fontsize': 20});\n",
    "axis.tick_params(length=0, labeltop=True, labelbottom=False)\n",
    "axis.text(6, -.3, \"Model fitting\", fontdict={'fontsize': 13}, horizontalalignment=\"center\")\n",
    "axis.text(13.3, -.3, \"Parameter selection\", fontdict={'fontsize': 13}, horizontalalignment=\"center\")\n",
    "axis.text(17.5, -.3, \"Evaluation\", fontdict={'fontsize': 13}, horizontalalignment=\"center\")\n",
    "plt.savefig(\"images/06_threefold_split.png\")\n",
    "plt.close()"
   ]
  },
  {
   "cell_type": "code",
   "execution_count": 21,
   "metadata": {
    "collapsed": false
   },
   "outputs": [
    {
     "name": "stdout",
     "output_type": "stream",
     "text": [
      "Size of training set: 84   size of validation set: 28   size of test set: 38\n",
      "best score on validation set:  0.964285714286\n",
      "best parameters:  {'C': 10, 'gamma': 0.001}\n",
      "test set score with best parameters:  0.921052631579\n"
     ]
    }
   ],
   "source": [
    "from sklearn.svm import SVC\n",
    "# split data into train+validation set and test set\n",
    "X_trainval, X_test, y_trainval, y_test = train_test_split(iris.data, iris.target, random_state=0)\n",
    "# split train+validation set into training and validation set\n",
    "X_train, X_valid, y_train, y_valid = train_test_split(X_trainval, y_trainval, random_state=1)\n",
    "\n",
    "print(\"Size of training set: %d   size of validation set: %d   size of test set: %d\" % (X_train.shape[0], X_valid.shape[0], X_test.shape[0]))\n",
    "best_score = 0\n",
    "\n",
    "for gamma in [0.001, 0.01, 0.1, 1, 10, 100]:\n",
    "    for C in [0.001, 0.01, 0.1, 1, 10, 100]:\n",
    "        # for each combination of parameters\n",
    "        # train an SVC\n",
    "        svm = SVC(gamma=gamma, C=C)\n",
    "        svm.fit(X_train, y_train)\n",
    "        # evaluate the SVC on the test set \n",
    "        score = svm.score(X_valid, y_valid)\n",
    "        # if we got a better score, store the score and parameters\n",
    "        if score > best_score:\n",
    "            best_score = score\n",
    "            best_parameters = {'C': C, 'gamma': gamma}\n",
    "\n",
    "# rebuild a model on the combined training and validation set, and evaluate it on the test set\n",
    "svm = SVC(**best_parameters)\n",
    "svm.fit(X_trainval, y_trainval)\n",
    "test_score = svm.score(X_test, y_test)\n",
    "print(\"best score on validation set: \", best_score)\n",
    "print(\"best parameters: \", best_parameters)\n",
    "print(\"test set score with best parameters: \", test_score)"
   ]
  },
  {
   "cell_type": "markdown",
   "metadata": {},
   "source": [
    "### Grid-search with cross-validation"
   ]
  },
  {
   "cell_type": "code",
   "execution_count": 22,
   "metadata": {
    "collapsed": false
   },
   "outputs": [
    {
     "data": {
      "text/plain": [
       "SVC(C=100, cache_size=200, class_weight=None, coef0=0.0,\n",
       "  decision_function_shape=None, degree=3, gamma=0.01, kernel='rbf',\n",
       "  max_iter=-1, probability=False, random_state=None, shrinking=True,\n",
       "  tol=0.001, verbose=False)"
      ]
     },
     "execution_count": 22,
     "metadata": {},
     "output_type": "execute_result"
    }
   ],
   "source": [
    "# reference: manual_grid_search_cv\n",
    "for gamma in [0.001, 0.01, 0.1, 1, 10, 100]:\n",
    "    for C in [0.001, 0.01, 0.1, 1, 10, 100]:\n",
    "        # for each combination of parameters\n",
    "        # train an SVC\n",
    "        svm = SVC(gamma=gamma, C=C)\n",
    "        # perform cross-validation\n",
    "        scores = cross_val_score(svm, X_trainval, y_trainval, cv=5)\n",
    "        # compute mean cross-validation accuracy\n",
    "        score = np.mean(scores)\n",
    "        # if we got a better score, store the score and parameters\n",
    "        if score > best_score:\n",
    "            best_score = score\n",
    "            best_parameters = {'C': C, 'gamma': gamma}\n",
    "# rebuild a model on the combined training and validation set\n",
    "svm = SVC(**best_parameters)\n",
    "svm.fit(X_trainval, y_trainval)"
   ]
  },
  {
   "cell_type": "code",
   "execution_count": 23,
   "metadata": {
    "collapsed": false,
    "hide_input": false
   },
   "outputs": [],
   "source": [
    "from sklearn.model_selection import GridSearchCV\n",
    "param_grid = {'C': [0.001, 0.01, 0.1, 1, 10, 100],\n",
    "              'gamma': [0.001, 0.01, 0.1, 1, 10, 100]}\n",
    "grid_search = GridSearchCV(SVC(), param_grid, cv=5)\n",
    "grid_search.fit(X_trainval, y_trainval)\n",
    "scores = grid_search.grid_scores_[15:]\n",
    "\n",
    "best = np.argmax([x.mean_validation_score for x in scores])\n",
    "plt.figure(figsize=(10, 3))\n",
    "plt.xlim(-1, len(scores))\n",
    "plt.ylim(0, 1.1)\n",
    "for i, score in enumerate(scores):\n",
    "    marker_cv, = plt.plot([i] * 5, score.cv_validation_scores, '^', c='gray', markersize=5, alpha=.5)\n",
    "    marker_mean, = plt.plot(i, score.mean_validation_score, 'v', c='none', alpha=1, markersize=10)\n",
    "    if i == best:\n",
    "        marker_best, = plt.plot(i, score.mean_validation_score, 'o', c='red', fillstyle=\"none\", alpha=1, markersize=20, markeredgewidth=3)\n",
    "\n",
    "plt.xticks(range(len(scores)), [str(score.parameters).strip(\"{}\").replace(\"'\", \"\") for score in scores], rotation=90);\n",
    "plt.ylabel(\"validation accuracy\")\n",
    "plt.xlabel(\"parameter settings\")\n",
    "plt.legend([marker_cv, marker_mean, marker_best], [\"cv accuracy\", \"mean accuracy\", \"best parameter setting\"], loc=(1.05, .4))\n",
    "plt.savefig(\"images/06_cross_val_selection.png\")\n",
    "plt.close()"
   ]
  },
  {
   "cell_type": "code",
   "execution_count": 24,
   "metadata": {
    "collapsed": false,
    "hide_input": false,
    "scrolled": false
   },
   "outputs": [],
   "source": [
    "plt.figure(figsize=(10, 3))\n",
    "axes = plt.gca()\n",
    "axes.yaxis.set_visible(False)\n",
    "axes.xaxis.set_visible(False)\n",
    "axes.set_frame_on(False)\n",
    "#axes.invert_yaxis()\n",
    "def draw(ax, text, start, target=None):\n",
    "    if target is not None:\n",
    "        patchB = target.get_bbox_patch()\n",
    "        end = target.get_position()\n",
    "    else:\n",
    "        end = start\n",
    "        patchB = None\n",
    "    annotation = ax.annotate(text, end, start, xycoords='axes pixels', textcoords='axes pixels', size=20,\n",
    "                arrowprops=dict(arrowstyle=\"-|>\", fc=\"w\", ec=\"k\", patchB=patchB,\n",
    "                               connectionstyle=\"arc3,rad=0.0\"),\n",
    "                bbox=dict(boxstyle=\"round\", fc=\"w\"), horizontalalignment=\"center\", verticalalignment=\"center\")\n",
    "    plt.draw()\n",
    "    return annotation\n",
    "\n",
    "step = 100\n",
    "grr = 400\n",
    "\n",
    "final_evaluation = draw(axes, \"final evaluation\", (5 * step, grr - 3 * step))\n",
    "retrained_model = draw(axes, \"retrained model\", (3 * step, grr - 3 * step), final_evaluation)\n",
    "best_parameters = draw(axes, \"best parameters\", (.5 * step, grr - 3 * step), retrained_model)\n",
    "cross_validation = draw(axes, \"cross validation\", (.5 * step, grr - 2 * step), best_parameters)\n",
    "parameters = draw(axes, \"parameter grid\", (0.0, grr - 0), cross_validation)\n",
    "training_data = draw(axes, \"training data\", (2 * step, grr - step), cross_validation)\n",
    "draw(axes, \"training data\", (2 * step, grr - step), retrained_model)\n",
    "test_data = draw(axes, \"test data\", (5 * step, grr - step), final_evaluation)\n",
    "draw(axes, \"data set\", (3.5 * step, grr - 0.0), training_data)\n",
    "data_set = draw(axes, \"data set\", (3.5 * step, grr - 0.0), test_data)\n",
    "plt.ylim(0, 1)\n",
    "plt.xlim(0, 1.5)\n",
    "plt.savefig(\"images/06_grid_search_overview.png\")\n",
    "plt.close()"
   ]
  },
  {
   "cell_type": "code",
   "execution_count": 25,
   "metadata": {
    "collapsed": false
   },
   "outputs": [
    {
     "data": {
      "text/plain": [
       "{'C': [0.001, 0.01, 0.1, 1, 10, 100], 'gamma': [0.001, 0.01, 0.1, 1, 10, 100]}"
      ]
     },
     "execution_count": 25,
     "metadata": {},
     "output_type": "execute_result"
    }
   ],
   "source": [
    "param_grid = {'C': [0.001, 0.01, 0.1, 1, 10, 100],\n",
    "              'gamma': [0.001, 0.01, 0.1, 1, 10, 100]}\n",
    "param_grid"
   ]
  },
  {
   "cell_type": "code",
   "execution_count": 26,
   "metadata": {
    "collapsed": true
   },
   "outputs": [],
   "source": [
    "from sklearn.model_selection import GridSearchCV\n",
    "from sklearn.svm import SVC\n",
    "grid_search = GridSearchCV(SVC(), param_grid, cv=5)"
   ]
  },
  {
   "cell_type": "code",
   "execution_count": 27,
   "metadata": {
    "collapsed": true
   },
   "outputs": [],
   "source": [
    "X_train, X_test, y_train, y_test = train_test_split(iris.data, iris.target, random_state=0)"
   ]
  },
  {
   "cell_type": "code",
   "execution_count": 28,
   "metadata": {
    "collapsed": false
   },
   "outputs": [
    {
     "data": {
      "text/plain": [
       "GridSearchCV(cv=5, error_score='raise',\n",
       "       estimator=SVC(C=1.0, cache_size=200, class_weight=None, coef0=0.0,\n",
       "  decision_function_shape=None, degree=3, gamma='auto', kernel='rbf',\n",
       "  max_iter=-1, probability=False, random_state=None, shrinking=True,\n",
       "  tol=0.001, verbose=False),\n",
       "       fit_params={}, iid=True, n_jobs=1,\n",
       "       param_grid={'C': [0.001, 0.01, 0.1, 1, 10, 100], 'gamma': [0.001, 0.01, 0.1, 1, 10, 100]},\n",
       "       pre_dispatch='2*n_jobs', refit=True, scoring=None, verbose=0)"
      ]
     },
     "execution_count": 28,
     "metadata": {},
     "output_type": "execute_result"
    }
   ],
   "source": [
    "grid_search.fit(X_train, y_train)"
   ]
  },
  {
   "cell_type": "code",
   "execution_count": 29,
   "metadata": {
    "collapsed": false
   },
   "outputs": [
    {
     "data": {
      "text/plain": [
       "0.97368421052631582"
      ]
     },
     "execution_count": 29,
     "metadata": {},
     "output_type": "execute_result"
    }
   ],
   "source": [
    "grid_search.score(X_test, y_test)"
   ]
  },
  {
   "cell_type": "code",
   "execution_count": 30,
   "metadata": {
    "collapsed": false
   },
   "outputs": [
    {
     "name": "stdout",
     "output_type": "stream",
     "text": [
      "{'C': 100, 'gamma': 0.01}\n",
      "0.973214285714\n"
     ]
    }
   ],
   "source": [
    "print(grid_search.best_params_)\n",
    "print(grid_search.best_score_)"
   ]
  },
  {
   "cell_type": "code",
   "execution_count": 31,
   "metadata": {
    "collapsed": false
   },
   "outputs": [
    {
     "data": {
      "text/plain": [
       "SVC(C=100, cache_size=200, class_weight=None, coef0=0.0,\n",
       "  decision_function_shape=None, degree=3, gamma=0.01, kernel='rbf',\n",
       "  max_iter=-1, probability=False, random_state=None, shrinking=True,\n",
       "  tol=0.001, verbose=False)"
      ]
     },
     "execution_count": 31,
     "metadata": {},
     "output_type": "execute_result"
    }
   ],
   "source": [
    "grid_search.best_estimator_"
   ]
  },
  {
   "cell_type": "markdown",
   "metadata": {},
   "source": [
    "### Analyzing the result of cross-validation"
   ]
  },
  {
   "cell_type": "code",
   "execution_count": 32,
   "metadata": {
    "collapsed": false
   },
   "outputs": [
    {
     "data": {
      "text/plain": [
       "[mean: 0.36607, std: 0.01137, params: {'C': 0.001, 'gamma': 0.001},\n",
       " mean: 0.36607, std: 0.01137, params: {'C': 0.001, 'gamma': 0.01},\n",
       " mean: 0.36607, std: 0.01137, params: {'C': 0.001, 'gamma': 0.1},\n",
       " mean: 0.36607, std: 0.01137, params: {'C': 0.001, 'gamma': 1},\n",
       " mean: 0.36607, std: 0.01137, params: {'C': 0.001, 'gamma': 10},\n",
       " mean: 0.36607, std: 0.01137, params: {'C': 0.001, 'gamma': 100},\n",
       " mean: 0.36607, std: 0.01137, params: {'C': 0.01, 'gamma': 0.001},\n",
       " mean: 0.36607, std: 0.01137, params: {'C': 0.01, 'gamma': 0.01},\n",
       " mean: 0.36607, std: 0.01137, params: {'C': 0.01, 'gamma': 0.1},\n",
       " mean: 0.36607, std: 0.01137, params: {'C': 0.01, 'gamma': 1},\n",
       " mean: 0.36607, std: 0.01137, params: {'C': 0.01, 'gamma': 10},\n",
       " mean: 0.36607, std: 0.01137, params: {'C': 0.01, 'gamma': 100},\n",
       " mean: 0.36607, std: 0.01137, params: {'C': 0.1, 'gamma': 0.001},\n",
       " mean: 0.69643, std: 0.01333, params: {'C': 0.1, 'gamma': 0.01},\n",
       " mean: 0.91964, std: 0.04442, params: {'C': 0.1, 'gamma': 0.1},\n",
       " mean: 0.95536, std: 0.03981, params: {'C': 0.1, 'gamma': 1},\n",
       " mean: 0.36607, std: 0.01137, params: {'C': 0.1, 'gamma': 10},\n",
       " mean: 0.36607, std: 0.01137, params: {'C': 0.1, 'gamma': 100},\n",
       " mean: 0.69643, std: 0.01333, params: {'C': 1, 'gamma': 0.001},\n",
       " mean: 0.92857, std: 0.04278, params: {'C': 1, 'gamma': 0.01},\n",
       " mean: 0.96429, std: 0.03405, params: {'C': 1, 'gamma': 0.1},\n",
       " mean: 0.94643, std: 0.03251, params: {'C': 1, 'gamma': 1},\n",
       " mean: 0.91964, std: 0.06507, params: {'C': 1, 'gamma': 10},\n",
       " mean: 0.50893, std: 0.04666, params: {'C': 1, 'gamma': 100},\n",
       " mean: 0.92857, std: 0.04278, params: {'C': 10, 'gamma': 0.001},\n",
       " mean: 0.96429, std: 0.03405, params: {'C': 10, 'gamma': 0.01},\n",
       " mean: 0.96429, std: 0.01793, params: {'C': 10, 'gamma': 0.1},\n",
       " mean: 0.93750, std: 0.04556, params: {'C': 10, 'gamma': 1},\n",
       " mean: 0.91964, std: 0.06507, params: {'C': 10, 'gamma': 10},\n",
       " mean: 0.56250, std: 0.04966, params: {'C': 10, 'gamma': 100},\n",
       " mean: 0.96429, std: 0.03405, params: {'C': 100, 'gamma': 0.001},\n",
       " mean: 0.97321, std: 0.02234, params: {'C': 100, 'gamma': 0.01},\n",
       " mean: 0.95536, std: 0.04983, params: {'C': 100, 'gamma': 0.1},\n",
       " mean: 0.94643, std: 0.05199, params: {'C': 100, 'gamma': 1},\n",
       " mean: 0.91964, std: 0.06507, params: {'C': 100, 'gamma': 10},\n",
       " mean: 0.56250, std: 0.04966, params: {'C': 100, 'gamma': 100}]"
      ]
     },
     "execution_count": 32,
     "metadata": {},
     "output_type": "execute_result"
    }
   ],
   "source": [
    "grid_search.grid_scores_"
   ]
  },
  {
   "cell_type": "code",
   "execution_count": 33,
   "metadata": {
    "collapsed": false
   },
   "outputs": [
    {
     "data": {
      "text/plain": [
       "<matplotlib.collections.PolyCollection at 0x7f12ce1992e8>"
      ]
     },
     "execution_count": 33,
     "metadata": {},
     "output_type": "execute_result"
    },
    {
     "data": {
      "image/png": "[encoded data removed]",
      "text/plain": [
       "<matplotlib.figure.Figure at 0x7f12ceb247b8>"
      ]
     },
     "metadata": {},
     "output_type": "display_data"
    }
   ],
   "source": [
    "scores = [score.mean_validation_score for score in grid_search.grid_scores_]\n",
    "scores = np.array(scores).reshape(6, 6)\n",
    "\n",
    "# plot the mean cross-validation scores\n",
    "mglearn.tools.heatmap(scores, xlabel='gamma', ylabel='C', xticklabels=param_grid['gamma'],\n",
    "                      yticklabels=param_grid['C'], cmap=\"viridis\")"
   ]
  },
  {
   "cell_type": "code",
   "execution_count": 34,
   "metadata": {
    "collapsed": false,
    "scrolled": true
   },
   "outputs": [
    {
     "name": "stdout",
     "output_type": "stream",
     "text": [
      "gridsearch_failures\n"
     ]
    },
    {
     "data": {
      "image/png": "[encoded data removed]",
      "text/plain": [
       "<matplotlib.figure.Figure at 0x7f12ce0fb978>"
      ]
     },
     "metadata": {},
     "output_type": "display_data"
    }
   ],
   "source": [
    "fig, axes = plt.subplots(1, 3, figsize=(13, 5))\n",
    "\n",
    "param_grid_linear = {'C': np.linspace(1, 2, 6),\n",
    "                     'gamma':  np.linspace(1, 2, 6)}\n",
    "\n",
    "param_grid_one_log = {'C': np.linspace(1, 2, 6),\n",
    "                     'gamma':  np.logspace(-3, 2, 6)}\n",
    "\n",
    "param_grid_range = {'C': np.logspace(-3, 2, 6),\n",
    "                     'gamma':  np.logspace(-7, -2, 6)}\n",
    "\n",
    "for param_grid, ax in zip([param_grid_linear, param_grid_one_log,\n",
    "                           param_grid_range], axes):\n",
    "    grid_search = GridSearchCV(SVC(), param_grid, cv=5)\n",
    "    grid_search.fit(X_train, y_train)\n",
    "    scores = [score.mean_validation_score for score in grid_search.grid_scores_]\n",
    "    scores = np.array(scores).reshape(6, 6)\n",
    "\n",
    "    # plot the mean cross-validation scores\n",
    "    scores_image = mglearn.tools.heatmap(scores, xlabel='gamma', ylabel='C', xticklabels=param_grid['gamma'],\n",
    "                                         yticklabels=param_grid['C'], cmap=\"viridis\", ax=ax)\n",
    "    \n",
    "plt.colorbar(scores_image, ax=axes.tolist())\n",
    "print(\"gridsearch_failures\")"
   ]
  },
  {
   "cell_type": "markdown",
   "metadata": {},
   "source": [
    "### Using different cross-validation strategies with grid-search"
   ]
  },
  {
   "cell_type": "markdown",
   "metadata": {},
   "source": [
    "### Nested cross-validation"
   ]
  },
  {
   "cell_type": "code",
   "execution_count": 35,
   "metadata": {
    "collapsed": false
   },
   "outputs": [
    {
     "name": "stdout",
     "output_type": "stream",
     "text": [
      "Cross-validation scores:  [ 0.967  1.     0.967  0.967  1.   ]\n",
      "Mean cross-validation score:  0.98\n"
     ]
    }
   ],
   "source": [
    "scores = cross_val_score(GridSearchCV(SVC(), param_grid, cv=5), iris.data, iris.target, cv=5)\n",
    "print(\"Cross-validation scores: \", scores)\n",
    "print(\"Mean cross-validation score: \", scores.mean())"
   ]
  },
  {
   "cell_type": "code",
   "execution_count": 36,
   "metadata": {
    "collapsed": false
   },
   "outputs": [],
   "source": [
    "def nested_cv(X, y, inner_cv, outer_cv, Classifier, parameter_grid):\n",
    "    outer_scores = []\n",
    "    # for each split of the data in the outer cross-validation\n",
    "    # (split method returns indices)\n",
    "    for training_samples, test_samples in outer_cv.split(X, y):\n",
    "        # find best parameter using inner cross-validation:\n",
    "        best_parms = {}\n",
    "        best_score = -np.inf\n",
    "        # iterate over parameters\n",
    "        for parameters in parameter_grid:\n",
    "            # accumulate score over inner splits\n",
    "            cv_scores = []\n",
    "            # iterate over inner cross-validation\n",
    "            for inner_train, inner_test in inner_cv.split(X[training_samples], y[training_samples]):\n",
    "                # build classifier given parameters and training data\n",
    "                clf = Classifier(**parameters)\n",
    "                clf.fit(X[inner_train], y[inner_train])\n",
    "                # evaluate on inner test set\n",
    "                score = clf.score(X[inner_test], y[inner_test])\n",
    "                cv_scores.append(score)\n",
    "            # compute mean score over inner folds\n",
    "            mean_score = np.mean(cv_scores)\n",
    "            if mean_score > best_score:\n",
    "                # if better than so far, remember parameters\n",
    "                best_score = mean_score\n",
    "                best_params = parameters\n",
    "        # build classifier on best parameters using outer training set\n",
    "        clf = Classifier(**best_params)\n",
    "        clf.fit(X[training_samples], y[training_samples])\n",
    "        # evaluate \n",
    "        outer_scores.append(clf.score(X[test_samples], y[test_samples]))\n",
    "    return outer_scores"
   ]
  },
  {
   "cell_type": "code",
   "execution_count": 37,
   "metadata": {
    "collapsed": false,
    "hide_input": false
   },
   "outputs": [
    {
     "data": {
      "text/plain": [
       "[0.96666666666666667, 1.0, 0.96666666666666667, 0.96666666666666667, 1.0]"
      ]
     },
     "execution_count": 37,
     "metadata": {},
     "output_type": "execute_result"
    }
   ],
   "source": [
    "from sklearn.model_selection import ParameterGrid, StratifiedKFold\n",
    "nested_cv(iris.data, iris.target, StratifiedKFold(5), StratifiedKFold(5), SVC, ParameterGrid(param_grid))"
   ]
  },
  {
   "cell_type": "markdown",
   "metadata": {
    "collapsed": true
   },
   "source": [
    "### Parallelizing cross-validation and grid-search"
   ]
  },
  {
   "cell_type": "markdown",
   "metadata": {},
   "source": [
    "## Evaluation Metrics and scoring\n",
    "### Keep the end-goal in mind"
   ]
  },
  {
   "cell_type": "markdown",
   "metadata": {},
   "source": [
    "### Metrics for binary classification\n",
    "#### Kinds of Errors\n",
    "#### Imbalanced datasets"
   ]
  },
  {
   "cell_type": "code",
   "execution_count": 38,
   "metadata": {
    "collapsed": true
   },
   "outputs": [],
   "source": [
    "from sklearn.datasets import load_digits\n",
    "\n",
    "digits = load_digits()\n",
    "y = digits.target == 9\n",
    "\n",
    "X_train, X_test, y_train, y_test = train_test_split(\n",
    "    digits.data, y, random_state=0)"
   ]
  },
  {
   "cell_type": "code",
   "execution_count": 39,
   "metadata": {
    "collapsed": false
   },
   "outputs": [
    {
     "name": "stdout",
     "output_type": "stream",
     "text": [
      "predicted labels: [False]\n",
      "score: 0.895556\n"
     ]
    }
   ],
   "source": [
    "from sklearn.dummy import DummyClassifier\n",
    "dummy_majority = DummyClassifier(strategy='most_frequent').fit(X_train, y_train)\n",
    "pred_most_frequent = dummy_majority.predict(X_test)\n",
    "print(\"predicted labels: %s\" % np.unique(pred_most_frequent))\n",
    "print(\"score: %f\" % dummy_majority.score(X_test, y_test))"
   ]
  },
  {
   "cell_type": "code",
   "execution_count": 40,
   "metadata": {
    "collapsed": false
   },
   "outputs": [
    {
     "data": {
      "text/plain": [
       "0.9177777777777778"
      ]
     },
     "execution_count": 40,
     "metadata": {},
     "output_type": "execute_result"
    }
   ],
   "source": [
    "from sklearn.tree import DecisionTreeClassifier\n",
    "tree = DecisionTreeClassifier(max_depth=2).fit(X_train, y_train)\n",
    "pred_tree = tree.predict(X_test)\n",
    "tree.score(X_test, y_test)"
   ]
  },
  {
   "cell_type": "code",
   "execution_count": 41,
   "metadata": {
    "collapsed": false
   },
   "outputs": [
    {
     "name": "stdout",
     "output_type": "stream",
     "text": [
      "dummy score: 0.824444\n",
      "logreg score: 0.977778\n"
     ]
    }
   ],
   "source": [
    "from sklearn.linear_model import LogisticRegression\n",
    "\n",
    "dummy = DummyClassifier().fit(X_train, y_train)\n",
    "pred_dummy = dummy.predict(X_test)\n",
    "print(\"dummy score: %f\" % dummy.score(X_test, y_test))\n",
    "\n",
    "logreg = LogisticRegression(C=0.1).fit(X_train, y_train)\n",
    "pred_logreg = logreg.predict(X_test)\n",
    "print(\"logreg score: %f\" % logreg.score(X_test, y_test))"
   ]
  },
  {
   "cell_type": "markdown",
   "metadata": {},
   "source": [
    "#### Confusion matrices"
   ]
  },
  {
   "cell_type": "code",
   "execution_count": 42,
   "metadata": {
    "collapsed": false
   },
   "outputs": [
    {
     "name": "stdout",
     "output_type": "stream",
     "text": [
      "[[401   2]\n",
      " [  8  39]]\n"
     ]
    }
   ],
   "source": [
    "from sklearn.metrics import confusion_matrix\n",
    "\n",
    "confusion = confusion_matrix(y_test, pred_logreg)\n",
    "print(confusion)"
   ]
  },
  {
   "cell_type": "code",
   "execution_count": 43,
   "metadata": {
    "collapsed": false
   },
   "outputs": [
    {
     "data": {
      "text/plain": [
       "(0, 1)"
      ]
     },
     "execution_count": 43,
     "metadata": {},
     "output_type": "execute_result"
    },
    {
     "data": {
      "image/png": "[encoded data removed]",
      "text/plain": [
       "<matplotlib.figure.Figure at 0x7f12cde02eb8>"
      ]
     },
     "metadata": {},
     "output_type": "display_data"
    }
   ],
   "source": [
    "plt.title(\"confusion_matrix\")\n",
    "plt.text(0.45, .6, confusion[0, 0], size=70, horizontalalignment='right')\n",
    "plt.text(0.45, .1, confusion[1, 0], size=70, horizontalalignment='right')\n",
    "plt.text(.95, .6, confusion[0, 1], size=70, horizontalalignment='right')\n",
    "plt.text(.95, 0.1, confusion[1, 1], size=70, horizontalalignment='right')\n",
    "plt.xticks([.25, .75], [\"predicted 'not 4'\", \"predicted '4'\"], size=20)\n",
    "plt.yticks([.25, .75], [\"true '4'\", \"true 'not 4'\"], size=20);\n",
    "plt.plot([.5, .5], [0, 1], '--', c='k')\n",
    "plt.plot([0, 1], [.5, .5], '--', c='k')\n",
    "\n",
    "plt.xlim(0, 1)\n",
    "plt.ylim(0, 1)"
   ]
  },
  {
   "cell_type": "code",
   "execution_count": 44,
   "metadata": {
    "collapsed": false
   },
   "outputs": [
    {
     "data": {
      "text/plain": [
       "(0, 1)"
      ]
     },
     "execution_count": 44,
     "metadata": {},
     "output_type": "execute_result"
    },
    {
     "data": {
      "image/png": "[encoded data removed]",
      "text/plain": [
       "<matplotlib.figure.Figure at 0x7f12cddf4b00>"
      ]
     },
     "metadata": {},
     "output_type": "display_data"
    }
   ],
   "source": [
    "plt.title(\"binary_confusion_matrix_tp_fp\")\n",
    "plt.text(0.45, .6, \"TN\", size=100, horizontalalignment='right')\n",
    "plt.text(0.45, .1, \"FN\", size=100, horizontalalignment='right')\n",
    "plt.text(.95, .6, \"FP\", size=100, horizontalalignment='right')\n",
    "plt.text(.95, 0.1, \"TP\", size=100, horizontalalignment='right')\n",
    "plt.xticks([.25, .75], [\"predicted negative\", \"predicted positive\"], size=15)\n",
    "plt.yticks([.25, .75], [\"positive class\", \"negative class\"], size=15);\n",
    "plt.plot([.5, .5], [0, 1], '--', c='k')\n",
    "plt.plot([0, 1], [.5, .5], '--', c='k')\n",
    "\n",
    "plt.xlim(0, 1)\n",
    "plt.ylim(0, 1)"
   ]
  },
  {
   "cell_type": "code",
   "execution_count": 45,
   "metadata": {
    "collapsed": false
   },
   "outputs": [
    {
     "name": "stdout",
     "output_type": "stream",
     "text": [
      "Most frequent class:\n",
      "[[403   0]\n",
      " [ 47   0]]\n",
      "\n",
      "Dummy model:\n",
      "[[367  36]\n",
      " [ 40   7]]\n",
      "\n",
      "Decision tree:\n",
      "[[390  13]\n",
      " [ 24  23]]\n",
      "\n",
      "Logistic Regression\n",
      "[[401   2]\n",
      " [  8  39]]\n"
     ]
    }
   ],
   "source": [
    "print(\"Most frequent class:\")\n",
    "print(confusion_matrix(y_test, pred_most_frequent))\n",
    "print(\"\\nDummy model:\")\n",
    "print(confusion_matrix(y_test, pred_dummy))\n",
    "print(\"\\nDecision tree:\")\n",
    "print(confusion_matrix(y_test, pred_tree))\n",
    "print(\"\\nLogistic Regression\")\n",
    "print(confusion_matrix(y_test, pred_logreg))"
   ]
  },
  {
   "cell_type": "markdown",
   "metadata": {},
   "source": [
    "##### Relation to accuracy\n",
    "\\begin{equation}\n",
    "\\text{Accuracy} = \\frac{\\text{TP} + \\text{TN}}{\\text{TP} + \\text{TN} + \\text{FP} + \\text{FN}}\n",
    "\\end{equation}"
   ]
  },
  {
   "cell_type": "markdown",
   "metadata": {},
   "source": [
    "#### Precision, recall and f-score\n",
    "\\begin{equation}\n",
    "\\text{Precision} = \\frac{\\text{TP}}{\\text{TP} + \\text{FP}}\n",
    "\\end{equation}"
   ]
  },
  {
   "cell_type": "markdown",
   "metadata": {
    "collapsed": true,
    "hide_input": false
   },
   "source": [
    "\\begin{equation}\n",
    "\\text{Recall} = \\frac{\\text{TP}}{\\text{TP} + \\text{FN}}\n",
    "\\end{equation}\n",
    "\\begin{equation}\n",
    "\\text{F} = 2 \\cdot \\frac{\\text{precision} \\cdot \\text{recall}}{\\text{precision} + \\text{recall}}\n",
    "\\end{equation}"
   ]
  },
  {
   "cell_type": "code",
   "execution_count": 46,
   "metadata": {
    "collapsed": false
   },
   "outputs": [
    {
     "name": "stdout",
     "output_type": "stream",
     "text": [
      "f1 score most frequent: 0.00\n",
      "f1 score dummy: 0.16\n",
      "f1 score tree: 0.55\n",
      "f1 score: 0.89\n"
     ]
    },
    {
     "name": "stderr",
     "output_type": "stream",
     "text": [
      "/home/andy/checkout/scikit-learn/sklearn/metrics/classification.py:1117: UndefinedMetricWarning: F-score is ill-defined and being set to 0.0 due to no predicted samples.\n",
      "  'precision', 'predicted', average, warn_for)\n"
     ]
    }
   ],
   "source": [
    "from sklearn.metrics import f1_score\n",
    "print(\"f1 score most frequent: %.2f\" % f1_score(y_test, pred_most_frequent))\n",
    "print(\"f1 score dummy: %.2f\" % f1_score(y_test, pred_dummy))\n",
    "print(\"f1 score tree: %.2f\" % f1_score(y_test, pred_tree))\n",
    "print(\"f1 score: %.2f\" % f1_score(y_test, pred_logreg))"
   ]
  },
  {
   "cell_type": "code",
   "execution_count": 47,
   "metadata": {
    "collapsed": false
   },
   "outputs": [
    {
     "name": "stdout",
     "output_type": "stream",
     "text": [
      "             precision    recall  f1-score   support\n",
      "\n",
      "   not nine       0.90      1.00      0.94       403\n",
      "       nine       0.00      0.00      0.00        47\n",
      "\n",
      "avg / total       0.80      0.90      0.85       450\n",
      "\n"
     ]
    },
    {
     "name": "stderr",
     "output_type": "stream",
     "text": [
      "/home/andy/checkout/scikit-learn/sklearn/metrics/classification.py:1117: UndefinedMetricWarning: Precision and F-score are ill-defined and being set to 0.0 in labels with no predicted samples.\n",
      "  'precision', 'predicted', average, warn_for)\n"
     ]
    }
   ],
   "source": [
    "from sklearn.metrics import classification_report\n",
    "print(classification_report(y_test, pred_most_frequent,\n",
    "                            target_names=[\"not nine\", \"nine\"]))"
   ]
  },
  {
   "cell_type": "code",
   "execution_count": 48,
   "metadata": {
    "collapsed": false
   },
   "outputs": [
    {
     "name": "stdout",
     "output_type": "stream",
     "text": [
      "             precision    recall  f1-score   support\n",
      "\n",
      "   not nine       0.90      0.91      0.91       403\n",
      "       nine       0.16      0.15      0.16        47\n",
      "\n",
      "avg / total       0.82      0.83      0.83       450\n",
      "\n"
     ]
    }
   ],
   "source": [
    "print(classification_report(y_test, pred_dummy,\n",
    "                            target_names=[\"not nine\", \"nine\"]))"
   ]
  },
  {
   "cell_type": "code",
   "execution_count": 49,
   "metadata": {
    "collapsed": false
   },
   "outputs": [
    {
     "name": "stdout",
     "output_type": "stream",
     "text": [
      "             precision    recall  f1-score   support\n",
      "\n",
      "   not nine       0.98      1.00      0.99       403\n",
      "       nine       0.95      0.83      0.89        47\n",
      "\n",
      "avg / total       0.98      0.98      0.98       450\n",
      "\n"
     ]
    }
   ],
   "source": [
    "print(classification_report(y_test, pred_logreg,\n",
    "                            target_names=[\"not nine\", \"nine\"]))"
   ]
  },
  {
   "cell_type": "markdown",
   "metadata": {},
   "source": [
    "#### Taking uncertainty into account"
   ]
  },
  {
   "cell_type": "code",
   "execution_count": 50,
   "metadata": {
    "collapsed": false,
    "hide_input": false
   },
   "outputs": [],
   "source": [
    "from mglearn.datasets import make_blobs\n",
    "from sklearn.svm import SVC\n",
    "from sklearn.preprocessing import StandardScaler\n",
    "from sklearn.model_selection import train_test_split\n",
    "\n",
    "X, y = make_blobs(n_samples=(400, 50), centers=2,\n",
    "                  cluster_std=[7.0, 2], random_state=22)\n",
    "X_train, X_test, y_train, y_test = train_test_split(X, y, random_state=0)\n",
    "\n",
    "fig, axes = plt.subplots(2, 3, figsize=(15, 8))\n",
    "plt.suptitle(\"decision_threshold\")\n",
    "axes[0, 0].set_title(\"training data\")\n",
    "axes[0, 0].scatter(X_train[:, 0], X_train[:, 1], c=y_train, cmap=mglearn.cm2)\n",
    "\n",
    "svc = SVC(gamma=.05).fit(X_train, y_train)\n",
    "axes[0, 1].set_title(\"decision with threshold 0\")\n",
    "axes[0, 1].scatter(X_train[:, 0], X_train[:, 1], c=y_train, cmap=mglearn.cm2)\n",
    "mglearn.tools.plot_2d_scores(svc, X_train,\n",
    "                             function=\"decision_function\", alpha=.7, ax=axes[0, 1])\n",
    "mglearn.tools.plot_2d_separator(svc, X_train, linewidth=3, ax=axes[0, 1])\n",
    "axes[0, 2].set_title(\"decision with threshold -0.8\")\n",
    "axes[0, 2].scatter(X_train[:, 0], X_train[:, 1], c=y_train, cmap=mglearn.cm2)\n",
    "mglearn.tools.plot_2d_separator(svc, X_train, linewidth=3, ax=axes[0, 2],\n",
    "                                threshold=-.8)\n",
    "mglearn.tools.plot_2d_scores(svc, X_train,\n",
    "                             function=\"decision_function\", alpha=.7, ax=axes[0, 2])\n",
    "\n",
    "\n",
    "#axes[1, 0].scatter(X_train[mask, 0], np.zeros(bla), c=y_train[mask], cmap=mglearn.cm2, alpha=.1, s=100)\n",
    "axes[1, 0].set_visible(False)\n",
    "\n",
    "mask = np.abs(X_train[:, 1] - 7) < 5\n",
    "bla = np.sum(mask)\n",
    "\n",
    "line = np.linspace(X_train.min(), X_train.max(), 100)\n",
    "axes[1, 1].set_title(\"Cross-section with threshold 0\")\n",
    "axes[1, 1].plot(line, svc.decision_function(np.c_[line, 10 * np.ones(100)]), c='k')\n",
    "contour = (svc.decision_function(np.c_[line, 10 * np.ones(100)]) > 0).reshape(1, -1).repeat(10, axis=0)\n",
    "axes[1, 1].contourf(line, np.linspace(-1.5, 1.5, 10), contour, alpha=0.2, cmap=mglearn.cm2)\n",
    "axes[1, 1].scatter(X_train[mask, 0], np.zeros(bla), c=y_train[mask], cmap=mglearn.cm2, alpha=.1, s=100)\n",
    "axes[1, 1].set_xlim(X_train.min(), X_train.max())\n",
    "axes[1, 1].set_ylim(-1.5, 1.5)\n",
    "axes[1, 1].set_xticks(())\n",
    "axes[1, 1].set_ylabel(\"Decision value\")\n",
    "\n",
    "contour2 = (svc.decision_function(np.c_[line, 10 * np.ones(100)]) > -.8).reshape(1, -1).repeat(10, axis=0)\n",
    "axes[1, 2].set_title(\"Cross-section with threshold -0.8\")\n",
    "axes[1, 2].contourf(line, np.linspace(-1.5, 1.5, 10), contour2, alpha=0.2, cmap=mglearn.cm2)\n",
    "axes[1, 2].scatter(X_train[mask, 0], np.zeros(bla), c=y_train[mask], cmap=mglearn.cm2, alpha=.1, s=100)\n",
    "axes[1, 2].plot(line, svc.decision_function(np.c_[line, 10 * np.ones(100)]), c='k')\n",
    "axes[1, 2].set_xlim(X_train.min(), X_train.max())\n",
    "axes[1, 2].set_ylim(-1.5, 1.5);\n",
    "axes[1, 2].set_xticks(())\n",
    "axes[1, 2].set_ylabel(\"Decision value\")\n",
    "plt.savefig(\"images/06_decision_threshold.png\")\n",
    "plt.close()"
   ]
  },
  {
   "cell_type": "code",
   "execution_count": 51,
   "metadata": {
    "collapsed": false
   },
   "outputs": [
    {
     "name": "stdout",
     "output_type": "stream",
     "text": [
      "             precision    recall  f1-score   support\n",
      "\n",
      "          0       0.97      0.89      0.93       104\n",
      "          1       0.35      0.67      0.46         9\n",
      "\n",
      "avg / total       0.92      0.88      0.89       113\n",
      "\n"
     ]
    }
   ],
   "source": [
    "print(classification_report(y_test, svc.predict(X_test)))"
   ]
  },
  {
   "cell_type": "code",
   "execution_count": 52,
   "metadata": {
    "collapsed": false
   },
   "outputs": [],
   "source": [
    "y_pred_lower_threshold = svc.decision_function(X_test) > -.8"
   ]
  },
  {
   "cell_type": "code",
   "execution_count": 53,
   "metadata": {
    "collapsed": false
   },
   "outputs": [
    {
     "name": "stdout",
     "output_type": "stream",
     "text": [
      "             precision    recall  f1-score   support\n",
      "\n",
      "          0       1.00      0.82      0.90       104\n",
      "          1       0.32      1.00      0.49         9\n",
      "\n",
      "avg / total       0.95      0.83      0.87       113\n",
      "\n"
     ]
    }
   ],
   "source": [
    "print(classification_report(y_test, y_pred_lower_threshold))"
   ]
  },
  {
   "cell_type": "markdown",
   "metadata": {},
   "source": [
    "#### Precision-Recall curves and ROC curves"
   ]
  },
  {
   "cell_type": "code",
   "execution_count": 54,
   "metadata": {
    "collapsed": false
   },
   "outputs": [],
   "source": [
    "from sklearn.metrics import precision_recall_curve\n",
    "precision, recall, thresholds = precision_recall_curve(y_test,\n",
    "                                                       svc.decision_function(X_test))"
   ]
  },
  {
   "cell_type": "code",
   "execution_count": 55,
   "metadata": {
    "collapsed": false
   },
   "outputs": [
    {
     "data": {
      "text/plain": [
       "<matplotlib.legend.Legend at 0x7f12cddfea20>"
      ]
     },
     "execution_count": 55,
     "metadata": {},
     "output_type": "execute_result"
    },
    {
     "data": {
      "image/png": "[encoded data removed]",
      "text/plain": [
       "<matplotlib.figure.Figure at 0x7f12cde352b0>"
      ]
     },
     "metadata": {},
     "output_type": "display_data"
    }
   ],
   "source": [
    "# create a similar dataset as before, but with more samples to get a smoother curve\n",
    "X, y = make_blobs(n_samples=(4000, 500), centers=2, cluster_std=[7.0, 2], random_state=22)\n",
    "X_train, X_test, y_train, y_test = train_test_split(X, y, random_state=0)\n",
    "\n",
    "svc = SVC(gamma=.05).fit(X_train, y_train)\n",
    "\n",
    "precision, recall, thresholds = precision_recall_curve(\n",
    "    y_test, svc.decision_function(X_test))\n",
    "# find threshold closest to zero:\n",
    "close_zero = np.argmin(np.abs(thresholds))\n",
    "plt.plot(precision[close_zero], recall[close_zero], 'o', markersize=10,\n",
    "         label=\"threshold zero\", fillstyle=\"none\", c='k', mew=2)\n",
    "\n",
    "plt.plot(precision, recall, label=\"precision recall curve\")\n",
    "plt.xlabel(\"precision\")\n",
    "plt.ylabel(\"recall\")\n",
    "plt.title(\"precision_recall_curve\");\n",
    "plt.legend(loc=\"best\")"
   ]
  },
  {
   "cell_type": "code",
   "execution_count": 56,
   "metadata": {
    "collapsed": false
   },
   "outputs": [
    {
     "data": {
      "image/png": "[encoded data removed]",
      "text/plain": [
       "<matplotlib.figure.Figure at 0x7f12cdcc2860>"
      ]
     },
     "metadata": {},
     "output_type": "display_data"
    }
   ],
   "source": [
    "from sklearn.ensemble import RandomForestClassifier\n",
    "\n",
    "rf = RandomForestClassifier(n_estimators=100, random_state=0, max_features=2)\n",
    "rf.fit(X_train, y_train)\n",
    "\n",
    "# RandomForestClassifier has predict_proba, but not decision_function\n",
    "precision_rf, recall_rf, thresholds_rf = precision_recall_curve(\n",
    "    y_test, rf.predict_proba(X_test)[:, 1])\n",
    "\n",
    "plt.plot(precision, recall, label=\"svc\")\n",
    "\n",
    "plt.plot(precision[close_zero], recall[close_zero], 'o', markersize=10,\n",
    "         label=\"threshold zero svc\", fillstyle=\"none\", c='k', mew=2)\n",
    "\n",
    "plt.plot(precision_rf, recall_rf, label=\"rf\")\n",
    "\n",
    "close_default_rf = np.argmin(np.abs(thresholds_rf - 0.5))\n",
    "plt.plot(precision_rf[close_default_rf], recall_rf[close_default_rf], '^', markersize=10,\n",
    "         label=\"threshold 0.5 rf\", fillstyle=\"none\", c='k', mew=2)\n",
    "plt.xlabel(\"precision\")\n",
    "plt.ylabel(\"recall\")\n",
    "plt.legend(loc=\"best\")\n",
    "plt.title(\"precision_recall_comparison\");"
   ]
  },
  {
   "cell_type": "code",
   "execution_count": 57,
   "metadata": {
    "collapsed": false
   },
   "outputs": [
    {
     "name": "stdout",
     "output_type": "stream",
     "text": [
      "f1_score of random forest: 0.609756\n",
      "f1_score of svc: 0.655870\n"
     ]
    }
   ],
   "source": [
    "print(\"f1_score of random forest: %f\" % f1_score(y_test, rf.predict(X_test)))\n",
    "print(\"f1_score of svc: %f\" % f1_score(y_test, svc.predict(X_test)))"
   ]
  },
  {
   "cell_type": "code",
   "execution_count": 58,
   "metadata": {
    "collapsed": false
   },
   "outputs": [
    {
     "name": "stdout",
     "output_type": "stream",
     "text": [
      "average precision of random forest: 0.665737\n",
      "average precision of svc: 0.662636\n"
     ]
    }
   ],
   "source": [
    "from sklearn.metrics import average_precision_score\n",
    "ap_rf = average_precision_score(y_test, rf.predict_proba(X_test)[:, 1])\n",
    "ap_svc = average_precision_score(y_test, svc.decision_function(X_test))\n",
    "print(\"average precision of random forest: %f\" % ap_rf)\n",
    "print(\"average precision of svc: %f\" % ap_svc)"
   ]
  },
  {
   "cell_type": "markdown",
   "metadata": {},
   "source": [
    "#### Receiver Operating Characteristics (ROC) and AUC\n",
    "\\begin{equation}\n",
    "\\text{FPR} = \\frac{\\text{FP}}{\\text{FP} + \\text{TN}}\n",
    "\\end{equation}"
   ]
  },
  {
   "cell_type": "code",
   "execution_count": 59,
   "metadata": {
    "collapsed": false
   },
   "outputs": [
    {
     "data": {
      "text/plain": [
       "<matplotlib.legend.Legend at 0x7f12cd9293c8>"
      ]
     },
     "execution_count": 59,
     "metadata": {},
     "output_type": "execute_result"
    },
    {
     "data": {
      "image/png": "[encoded data removed]",
      "text/plain": [
       "<matplotlib.figure.Figure at 0x7f12cde592e8>"
      ]
     },
     "metadata": {},
     "output_type": "display_data"
    }
   ],
   "source": [
    "from sklearn.metrics import roc_curve\n",
    "fpr, tpr, thresholds = roc_curve(y_test, svc.decision_function(X_test))\n",
    "\n",
    "plt.plot(fpr, tpr, label=\"ROC Curve\")\n",
    "plt.xlabel(\"FPR\")\n",
    "plt.ylabel(\"TPR (recall)\")\n",
    "plt.title(\"roc_curve\");\n",
    "# find threshold closest to zero:\n",
    "close_zero = np.argmin(np.abs(thresholds))\n",
    "plt.plot(fpr[close_zero], tpr[close_zero], 'o', markersize=10,\n",
    "         label=\"threshold zero\", fillstyle=\"none\", c='k', mew=2)\n",
    "plt.legend(loc=4)"
   ]
  },
  {
   "cell_type": "code",
   "execution_count": 60,
   "metadata": {
    "collapsed": false
   },
   "outputs": [
    {
     "data": {
      "text/plain": [
       "<matplotlib.legend.Legend at 0x7f12cd91aeb8>"
      ]
     },
     "execution_count": 60,
     "metadata": {},
     "output_type": "execute_result"
    },
    {
     "data": {
      "image/png": "[encoded data removed]",
      "text/plain": [
       "<matplotlib.figure.Figure at 0x7f12cde2ab70>"
      ]
     },
     "metadata": {},
     "output_type": "display_data"
    }
   ],
   "source": [
    "from sklearn.metrics import roc_curve\n",
    "fpr_rf, tpr_rf, thresholds_rf = roc_curve(y_test, rf.predict_proba(X_test)[:, 1])\n",
    "\n",
    "plt.plot(fpr, tpr, label=\"ROC Curve SVC\")\n",
    "plt.plot(fpr_rf, tpr_rf, label=\"ROC Curve RF\")\n",
    "\n",
    "plt.xlabel(\"FPR\")\n",
    "plt.ylabel(\"TPR (recall)\")\n",
    "plt.title(\"roc_curve_comparison\");\n",
    "plt.plot(fpr[close_zero], tpr[close_zero], 'o', markersize=10,\n",
    "         label=\"threshold zero SVC\", fillstyle=\"none\", c='k', mew=2)\n",
    "close_default_rf = np.argmin(np.abs(thresholds_rf - 0.5))\n",
    "plt.plot(fpr_rf[close_default_rf], tpr[close_default_rf], '^', markersize=10,\n",
    "         label=\"threshold 0.5 RF\", fillstyle=\"none\", c='k', mew=2)\n",
    "\n",
    "plt.legend(loc=4)"
   ]
  },
  {
   "cell_type": "code",
   "execution_count": 61,
   "metadata": {
    "collapsed": false
   },
   "outputs": [
    {
     "name": "stdout",
     "output_type": "stream",
     "text": [
      "AUC for Random Forest: 0.936695\n",
      "AUC for SVC: 0.916294\n"
     ]
    }
   ],
   "source": [
    "from sklearn.metrics import roc_auc_score\n",
    "rf_auc = roc_auc_score(y_test, rf.predict_proba(X_test)[:, 1])\n",
    "svc_auc = roc_auc_score(y_test, svc.decision_function(X_test))\n",
    "print(\"AUC for Random Forest: %f\" % rf_auc)\n",
    "print(\"AUC for SVC: %f\" % svc_auc)"
   ]
  },
  {
   "cell_type": "code",
   "execution_count": 62,
   "metadata": {
    "collapsed": false
   },
   "outputs": [
    {
     "name": "stdout",
     "output_type": "stream",
     "text": [
      "gamma = 1.00  accuracy = 0.90  AUC = 0.50\n",
      "gamma = 0.05  accuracy = 0.90  AUC = 0.90\n",
      "gamma = 0.01  accuracy = 0.90  AUC = 1.00\n"
     ]
    },
    {
     "data": {
      "text/plain": [
       "<matplotlib.legend.Legend at 0x7f12cd963588>"
      ]
     },
     "execution_count": 62,
     "metadata": {},
     "output_type": "execute_result"
    },
    {
     "data": {
      "image/png": "[encoded data removed]",
      "text/plain": [
       "<matplotlib.figure.Figure at 0x7f12cd9632b0>"
      ]
     },
     "metadata": {},
     "output_type": "display_data"
    }
   ],
   "source": [
    "y = digits.target == 9\n",
    "\n",
    "X_train, X_test, y_train, y_test = train_test_split(\n",
    "    digits.data, y, random_state=0)\n",
    "\n",
    "plt.figure()\n",
    "\n",
    "for gamma in [1, 0.05, 0.01]:\n",
    "    svc = SVC(gamma=gamma).fit(X_train, y_train)\n",
    "    accuracy = svc.score(X_test, y_test)\n",
    "    auc = roc_auc_score(y_test, svc.decision_function(X_test))\n",
    "    fpr, tpr, _ = roc_curve(y_test , svc.decision_function(X_test))\n",
    "    print(\"gamma = %.02f  accuracy = %.02f  AUC = %.02f\" % (gamma, accuracy, auc))\n",
    "    plt.plot(fpr, tpr, label=\"gamma=%.03f\" % gamma, linewidth=4)\n",
    "plt.xlabel(\"FPR\")\n",
    "plt.ylabel(\"TPR\")\n",
    "plt.xlim(-0.01, 1)\n",
    "plt.ylim(0, 1.02)\n",
    "plt.legend(loc=\"best\")"
   ]
  },
  {
   "cell_type": "markdown",
   "metadata": {},
   "source": [
    "### Multi-class classification"
   ]
  },
  {
   "cell_type": "code",
   "execution_count": 63,
   "metadata": {
    "collapsed": false
   },
   "outputs": [
    {
     "name": "stdout",
     "output_type": "stream",
     "text": [
      "accuracy: 0.953\n",
      "confusion matrix:\n",
      "[[37  0  0  0  0  0  0  0  0  0]\n",
      " [ 0 39  0  0  0  0  2  0  2  0]\n",
      " [ 0  0 41  3  0  0  0  0  0  0]\n",
      " [ 0  0  1 43  0  0  0  0  0  1]\n",
      " [ 0  0  0  0 38  0  0  0  0  0]\n",
      " [ 0  1  0  0  0 47  0  0  0  0]\n",
      " [ 0  0  0  0  0  0 52  0  0  0]\n",
      " [ 0  1  0  1  1  0  0 45  0  0]\n",
      " [ 0  3  1  0  0  0  0  0 43  1]\n",
      " [ 0  0  0  1  0  1  0  0  1 44]]\n"
     ]
    }
   ],
   "source": [
    "from sklearn.metrics import accuracy_score\n",
    "X_train, X_test, y_train, y_test = train_test_split(\n",
    "    digits.data, digits.target, random_state=0)\n",
    "lr = LogisticRegression().fit(X_train, y_train)\n",
    "pred = lr.predict(X_test)\n",
    "print(\"accuracy: %0.3f\" % accuracy_score(y_test, pred))\n",
    "print(\"confusion matrix:\")\n",
    "print(confusion_matrix(y_test, pred))"
   ]
  },
  {
   "cell_type": "code",
   "execution_count": 64,
   "metadata": {
    "collapsed": false,
    "hide_input": false
   },
   "outputs": [
    {
     "data": {
      "image/png": "[encoded data removed]",
      "text/plain": [
       "<matplotlib.figure.Figure at 0x7f12ce23c4a8>"
      ]
     },
     "metadata": {},
     "output_type": "display_data"
    }
   ],
   "source": [
    "scores_image = mglearn.tools.heatmap(confusion_matrix(y_test, pred), xlabel='Predicted label', ylabel='True label',\n",
    "                                     xticklabels=digits.target_names, yticklabels=digits.target_names,\n",
    "                                     cmap=plt.cm.gray_r, fmt=\"%d\")    \n",
    "plt.title(\"Confusion matrix\")\n",
    "plt.gca().invert_yaxis()"
   ]
  },
  {
   "cell_type": "code",
   "execution_count": 65,
   "metadata": {
    "collapsed": false
   },
   "outputs": [
    {
     "name": "stdout",
     "output_type": "stream",
     "text": [
      "             precision    recall  f1-score   support\n",
      "\n",
      "          0       1.00      1.00      1.00        37\n",
      "          1       0.89      0.91      0.90        43\n",
      "          2       0.95      0.93      0.94        44\n",
      "          3       0.90      0.96      0.92        45\n",
      "          4       0.97      1.00      0.99        38\n",
      "          5       0.98      0.98      0.98        48\n",
      "          6       0.96      1.00      0.98        52\n",
      "          7       1.00      0.94      0.97        48\n",
      "          8       0.93      0.90      0.91        48\n",
      "          9       0.96      0.94      0.95        47\n",
      "\n",
      "avg / total       0.95      0.95      0.95       450\n",
      "\n"
     ]
    }
   ],
   "source": [
    "print(classification_report(y_test, pred))"
   ]
  },
  {
   "cell_type": "code",
   "execution_count": 66,
   "metadata": {
    "collapsed": false
   },
   "outputs": [
    {
     "name": "stdout",
     "output_type": "stream",
     "text": [
      "micro average f1 score: 0.953333\n",
      "macro average f1 score: 0.954000\n"
     ]
    }
   ],
   "source": [
    "print(\"micro average f1 score: %f\" % f1_score(y_test, pred, average=\"micro\"))\n",
    "print(\"macro average f1 score: %f\" % f1_score(y_test, pred, average=\"macro\"))"
   ]
  },
  {
   "cell_type": "markdown",
   "metadata": {},
   "source": [
    "### Regression metrics"
   ]
  },
  {
   "cell_type": "markdown",
   "metadata": {},
   "source": [
    "## Using evaluation metrics in model selection"
   ]
  },
  {
   "cell_type": "code",
   "execution_count": 67,
   "metadata": {
    "collapsed": false
   },
   "outputs": [
    {
     "name": "stdout",
     "output_type": "stream",
     "text": [
      "default scoring  [ 0.9  0.9  0.9]\n",
      "explicit accuracy scoring  [ 0.9  0.9  0.9]\n",
      "AUC scoring  [ 0.994  0.99   0.996]\n"
     ]
    }
   ],
   "source": [
    "# default scoring for classification is accuracy\n",
    "print(\"default scoring \", cross_val_score(SVC(), digits.data, digits.target == 9))\n",
    "# providing scoring=\"accuracy\" doesn't change the results\n",
    "explicit_accuracy =  cross_val_score(SVC(), digits.data, digits.target == 9, scoring=\"accuracy\")\n",
    "print(\"explicit accuracy scoring \", explicit_accuracy)\n",
    "roc_auc =  cross_val_score(SVC(), digits.data, digits.target == 9, scoring=\"roc_auc\")\n",
    "print(\"AUC scoring \", roc_auc)"
   ]
  },
  {
   "cell_type": "code",
   "execution_count": 68,
   "metadata": {
    "collapsed": false
   },
   "outputs": [
    {
     "name": "stdout",
     "output_type": "stream",
     "text": [
      "Grid-Search with accuracy\n",
      "Best parameters: {'gamma': 0.0001}\n",
      "Best cross-validation score (accuracy)): 0.970304380104\n",
      "Test set AUC: 0.992\n",
      "Test set accuracy 0.973: \n",
      "\n",
      "Grid-Search with AUC\n",
      "Best parameters: {'gamma': 0.01}\n",
      "Best cross-validation score (AUC): 0.997467845028\n",
      "Test set AUC: 1.000\n",
      "Test set accuracy 1.000: \n"
     ]
    }
   ],
   "source": [
    "X_train, X_test, y_train, y_test = train_test_split(\n",
    "    digits.data, digits.target == 9, random_state=0)\n",
    "\n",
    "# we provide a somewhat bad grid to illustrate the point:\n",
    "param_grid = {'gamma': [0.0001, 0.01, 0.1, 1, 10]}\n",
    "# using the default scoring of accuracy:\n",
    "grid = GridSearchCV(SVC(), param_grid=param_grid)\n",
    "grid.fit(X_train, y_train)\n",
    "print(\"Grid-Search with accuracy\")\n",
    "print(\"Best parameters:\", grid.best_params_)\n",
    "print(\"Best cross-validation score (accuracy)):\", grid.best_score_)\n",
    "print(\"Test set AUC: %.3f\" % roc_auc_score(y_test, grid.decision_function(X_test)))\n",
    "print(\"Test set accuracy %.3f: \" % grid.score(X_test, y_test))\n",
    "\n",
    "# using AUC scoring instead:\n",
    "grid = GridSearchCV(SVC(), param_grid=param_grid, scoring=\"roc_auc\")\n",
    "grid.fit(X_train, y_train)\n",
    "print(\"\\nGrid-Search with AUC\")\n",
    "print(\"Best parameters:\", grid.best_params_)\n",
    "print(\"Best cross-validation score (AUC):\", grid.best_score_)\n",
    "print(\"Test set AUC: %.3f\" % roc_auc_score(y_test, grid.decision_function(X_test)))\n",
    "print(\"Test set accuracy %.3f: \" % grid.score(X_test, y_test))\n"
   ]
  },
  {
   "cell_type": "code",
   "execution_count": 69,
   "metadata": {
    "collapsed": false
   },
   "outputs": [
    {
     "name": "stdout",
     "output_type": "stream",
     "text": [
      "['accuracy', 'adjusted_rand_score', 'average_precision', 'f1', 'f1_macro', 'f1_micro', 'f1_samples', 'f1_weighted', 'log_loss', 'mean_absolute_error', 'mean_squared_error', 'median_absolute_error', 'precision', 'precision_macro', 'precision_micro', 'precision_samples', 'precision_weighted', 'r2', 'recall', 'recall_macro', 'recall_micro', 'recall_samples', 'recall_weighted', 'roc_auc']\n"
     ]
    }
   ],
   "source": [
    "from sklearn.metrics.scorer import SCORERS\n",
    "print(sorted(SCORERS.keys()))"
   ]
  },
  {
   "cell_type": "markdown",
   "metadata": {},
   "source": [
    "## Summary and outlook"
   ]
  }
 ],
 "metadata": {
  "kernelspec": {
   "display_name": "Python 3",
   "language": "python",
   "name": "python3"
  },
  "language_info": {
   "codemirror_mode": {
    "name": "ipython",
    "version": 3
   },
   "file_extension": ".py",
   "mimetype": "text/x-python",
   "name": "python",
   "nbconvert_exporter": "python",
   "pygments_lexer": "ipython3",
   "version": "3.5.1"
  }
 },
 "nbformat": 4,
 "nbformat_minor": 0
}
